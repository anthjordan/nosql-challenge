{
 "cells": [
  {
   "cell_type": "code",
   "execution_count": null,
   "id": "34f3eef0-3724-46fd-ac8b-312ef8683a1d",
   "metadata": {},
   "outputs": [],
   "source": [
    "# Import dependencies\n",
    "from pymongo import MongoClient\n",
    "from pprint import pprint"
   ]
  },
  {
   "cell_type": "code",
   "execution_count": null,
   "id": "69ea67be-09a1-45e7-b554-ca677ebab3e0",
   "metadata": {},
   "outputs": [],
   "source": [
    "# Create an instance of MongoClient\n",
    "mongo = MongoClient(port=27017)"
   ]
  },
  {
   "cell_type": "code",
   "execution_count": null,
   "id": "c76ee454-d9ad-4095-a1e8-c50f5f762bfb",
   "metadata": {},
   "outputs": [],
   "source": [
    "# confirm that our new database was created"
   ]
  },
  {
   "cell_type": "code",
   "execution_count": null,
   "id": "8620c67a-3c46-4c4c-9400-4107a9b3ba64",
   "metadata": {},
   "outputs": [],
   "source": [
    "# assign the uk_food database to a variable name\n",
    "db = mongo['uk_food']"
   ]
  },
  {
   "cell_type": "code",
   "execution_count": null,
   "id": "92a67d72-dd6b-402a-9996-e64485f1c9cc",
   "metadata": {},
   "outputs": [],
   "source": [
    "# review the collections in our new database"
   ]
  },
  {
   "cell_type": "code",
   "execution_count": null,
   "id": "4eceb1b2-1aa9-427e-bb55-cc0b720e64bd",
   "metadata": {},
   "outputs": [],
   "source": [
    "# review the collections in our new database"
   ]
  },
  {
   "cell_type": "code",
   "execution_count": null,
   "id": "68dc6da9-a0d7-4b6c-8ea2-6e9221b9de80",
   "metadata": {},
   "outputs": [],
   "source": [
    "# review a document in the establishments collection"
   ]
  }
 ],
 "metadata": {
  "kernelspec": {
   "display_name": "Python 3 (ipykernel)",
   "language": "python",
   "name": "python3"
  },
  "language_info": {
   "codemirror_mode": {
    "name": "ipython",
    "version": 3
   },
   "file_extension": ".py",
   "mimetype": "text/x-python",
   "name": "python",
   "nbconvert_exporter": "python",
   "pygments_lexer": "ipython3",
   "version": "3.10.11"
  }
 },
 "nbformat": 4,
 "nbformat_minor": 5
}
